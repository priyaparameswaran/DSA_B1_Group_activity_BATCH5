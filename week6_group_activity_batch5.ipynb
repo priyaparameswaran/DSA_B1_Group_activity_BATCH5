{
 "cells": [
  {
   "cell_type": "markdown",
   "id": "4a66e392",
   "metadata": {},
   "source": [
    "# Q&A Activity Question Week -06"
   ]
  },
  {
   "cell_type": "markdown",
   "id": "152f3934",
   "metadata": {},
   "source": [
    "### The given dataset contains the details of various countries, especially the data related to Area, Population, GDP and Trade details"
   ]
  },
  {
   "cell_type": "code",
   "execution_count": 41,
   "id": "8e37fc97",
   "metadata": {},
   "outputs": [
    {
     "data": {
      "text/html": [
       "<div>\n",
       "<style scoped>\n",
       "    .dataframe tbody tr th:only-of-type {\n",
       "        vertical-align: middle;\n",
       "    }\n",
       "\n",
       "    .dataframe tbody tr th {\n",
       "        vertical-align: top;\n",
       "    }\n",
       "\n",
       "    .dataframe thead th {\n",
       "        text-align: right;\n",
       "    }\n",
       "</style>\n",
       "<table border=\"1\" class=\"dataframe\">\n",
       "  <thead>\n",
       "    <tr style=\"text-align: right;\">\n",
       "      <th></th>\n",
       "      <th>country</th>\n",
       "      <th>Region</th>\n",
       "      <th>Surface area (km2)</th>\n",
       "      <th>Population in thousands (2017)</th>\n",
       "      <th>GDP per capita (current US$)</th>\n",
       "      <th>Agricultural production index</th>\n",
       "      <th>International trade: Imports (million US$)</th>\n",
       "    </tr>\n",
       "  </thead>\n",
       "  <tbody>\n",
       "    <tr>\n",
       "      <th>0</th>\n",
       "      <td>Afghanistan</td>\n",
       "      <td>SouthernAsia</td>\n",
       "      <td>652864</td>\n",
       "      <td>35530</td>\n",
       "      <td>623.2</td>\n",
       "      <td>125</td>\n",
       "      <td>3568</td>\n",
       "    </tr>\n",
       "    <tr>\n",
       "      <th>1</th>\n",
       "      <td>Albania</td>\n",
       "      <td>SouthernEurope</td>\n",
       "      <td>28748</td>\n",
       "      <td>2930</td>\n",
       "      <td>3984.2</td>\n",
       "      <td>134</td>\n",
       "      <td>4669</td>\n",
       "    </tr>\n",
       "    <tr>\n",
       "      <th>2</th>\n",
       "      <td>Algeria</td>\n",
       "      <td>NorthernAfrica</td>\n",
       "      <td>2381741</td>\n",
       "      <td>41318</td>\n",
       "      <td>4154.1</td>\n",
       "      <td>160</td>\n",
       "      <td>47091</td>\n",
       "    </tr>\n",
       "    <tr>\n",
       "      <th>3</th>\n",
       "      <td>Angola</td>\n",
       "      <td>MiddleAfrica</td>\n",
       "      <td>1246700</td>\n",
       "      <td>29784</td>\n",
       "      <td>4714.1</td>\n",
       "      <td>175</td>\n",
       "      <td>8790</td>\n",
       "    </tr>\n",
       "    <tr>\n",
       "      <th>4</th>\n",
       "      <td>Antigua and Barbuda</td>\n",
       "      <td>Caribbean</td>\n",
       "      <td>442</td>\n",
       "      <td>102</td>\n",
       "      <td>14764.5</td>\n",
       "      <td>88</td>\n",
       "      <td>491</td>\n",
       "    </tr>\n",
       "    <tr>\n",
       "      <th>...</th>\n",
       "      <td>...</td>\n",
       "      <td>...</td>\n",
       "      <td>...</td>\n",
       "      <td>...</td>\n",
       "      <td>...</td>\n",
       "      <td>...</td>\n",
       "      <td>...</td>\n",
       "    </tr>\n",
       "    <tr>\n",
       "      <th>191</th>\n",
       "      <td>Venezuela (Bolivarian Republic of)</td>\n",
       "      <td>SouthAmerica</td>\n",
       "      <td>912050</td>\n",
       "      <td>31977</td>\n",
       "      <td>11068.9</td>\n",
       "      <td>118</td>\n",
       "      <td>16324</td>\n",
       "    </tr>\n",
       "    <tr>\n",
       "      <th>192</th>\n",
       "      <td>Viet Nam</td>\n",
       "      <td>South-easternAsia</td>\n",
       "      <td>330967</td>\n",
       "      <td>95541</td>\n",
       "      <td>2067.9</td>\n",
       "      <td>136</td>\n",
       "      <td>174111</td>\n",
       "    </tr>\n",
       "    <tr>\n",
       "      <th>193</th>\n",
       "      <td>Yemen</td>\n",
       "      <td>WesternAsia</td>\n",
       "      <td>527968</td>\n",
       "      <td>28250</td>\n",
       "      <td>1106.4</td>\n",
       "      <td>136</td>\n",
       "      <td>6861</td>\n",
       "    </tr>\n",
       "    <tr>\n",
       "      <th>194</th>\n",
       "      <td>Zambia</td>\n",
       "      <td>EasternAfrica</td>\n",
       "      <td>752612</td>\n",
       "      <td>17094</td>\n",
       "      <td>1311.1</td>\n",
       "      <td>179</td>\n",
       "      <td>7442</td>\n",
       "    </tr>\n",
       "    <tr>\n",
       "      <th>195</th>\n",
       "      <td>Zimbabwe</td>\n",
       "      <td>EasternAfrica</td>\n",
       "      <td>390757</td>\n",
       "      <td>16530</td>\n",
       "      <td>890.4</td>\n",
       "      <td>99</td>\n",
       "      <td>5212</td>\n",
       "    </tr>\n",
       "  </tbody>\n",
       "</table>\n",
       "<p>196 rows × 7 columns</p>\n",
       "</div>"
      ],
      "text/plain": [
       "                                country             Region  \\\n",
       "0                           Afghanistan       SouthernAsia   \n",
       "1                               Albania     SouthernEurope   \n",
       "2                               Algeria     NorthernAfrica   \n",
       "3                                Angola       MiddleAfrica   \n",
       "4                   Antigua and Barbuda          Caribbean   \n",
       "..                                  ...                ...   \n",
       "191  Venezuela (Bolivarian Republic of)       SouthAmerica   \n",
       "192                            Viet Nam  South-easternAsia   \n",
       "193                               Yemen        WesternAsia   \n",
       "194                              Zambia      EasternAfrica   \n",
       "195                            Zimbabwe      EasternAfrica   \n",
       "\n",
       "     Surface area (km2)  Population in thousands (2017)  \\\n",
       "0                652864                           35530   \n",
       "1                 28748                            2930   \n",
       "2               2381741                           41318   \n",
       "3               1246700                           29784   \n",
       "4                   442                             102   \n",
       "..                  ...                             ...   \n",
       "191              912050                           31977   \n",
       "192              330967                           95541   \n",
       "193              527968                           28250   \n",
       "194              752612                           17094   \n",
       "195              390757                           16530   \n",
       "\n",
       "     GDP per capita (current US$)  Agricultural production index   \\\n",
       "0                           623.2                             125   \n",
       "1                          3984.2                             134   \n",
       "2                          4154.1                             160   \n",
       "3                          4714.1                             175   \n",
       "4                         14764.5                              88   \n",
       "..                            ...                             ...   \n",
       "191                       11068.9                             118   \n",
       "192                        2067.9                             136   \n",
       "193                        1106.4                             136   \n",
       "194                        1311.1                             179   \n",
       "195                         890.4                              99   \n",
       "\n",
       "     International trade: Imports (million US$)  \n",
       "0                                          3568  \n",
       "1                                          4669  \n",
       "2                                         47091  \n",
       "3                                          8790  \n",
       "4                                           491  \n",
       "..                                          ...  \n",
       "191                                       16324  \n",
       "192                                      174111  \n",
       "193                                        6861  \n",
       "194                                        7442  \n",
       "195                                        5212  \n",
       "\n",
       "[196 rows x 7 columns]"
      ]
     },
     "execution_count": 41,
     "metadata": {},
     "output_type": "execute_result"
    }
   ],
   "source": [
    "import pandas as pd\n",
    "import numpy as np\n",
    "import matplotlib.pyplot as plt\n",
    "import seaborn as sns\n",
    "data_set1=pd.read_excel('Dataset_w6.xlsx')\n",
    "data_set1"
   ]
  },
  {
   "cell_type": "markdown",
   "id": "4fa2f5bb",
   "metadata": {},
   "source": [
    "## 1. Find out how many countries are there in the dataset."
   ]
  },
  {
   "cell_type": "code",
   "execution_count": 42,
   "id": "58936fb6",
   "metadata": {},
   "outputs": [
    {
     "name": "stdout",
     "output_type": "stream",
     "text": [
      "Number of Countries in the Dataset are  196\n"
     ]
    }
   ],
   "source": [
    "country_count=data_set1['country'].nunique()\n",
    "print('Number of Countries in the Dataset are ', country_count)"
   ]
  },
  {
   "cell_type": "markdown",
   "id": "0f13913c",
   "metadata": {},
   "source": [
    "## 2. Find out how many countries with respect to the region are available in the dataset"
   ]
  },
  {
   "cell_type": "code",
   "execution_count": 22,
   "id": "8ef1dd3c",
   "metadata": {},
   "outputs": [
    {
     "name": "stdout",
     "output_type": "stream",
     "text": [
      "The number of countries with respect to the Region are as follows\n"
     ]
    },
    {
     "data": {
      "text/plain": [
       "Region\n",
       "Caribbean            16\n",
       "CentralAmerica        8\n",
       "CentralAsia           5\n",
       "EasternAfrica        17\n",
       "EasternAsia           7\n",
       "EasternEurope        10\n",
       "Melanesia             5\n",
       "Micronesia            4\n",
       "MiddleAfrica          9\n",
       "NorthernAfrica        5\n",
       "NorthernAmerica       4\n",
       "NorthernEurope       10\n",
       "Oceania               2\n",
       "Polynesia             5\n",
       "South-easternAsia    11\n",
       "SouthAmerica         12\n",
       "SouthernAfrica        5\n",
       "SouthernAsia          9\n",
       "SouthernEurope       12\n",
       "WesternAfrica        15\n",
       "WesternAsia          18\n",
       "WesternEurope         7\n",
       "Name: country, dtype: int64"
      ]
     },
     "execution_count": 22,
     "metadata": {},
     "output_type": "execute_result"
    }
   ],
   "source": [
    "region_count=data_set1['Region'].unique()\n",
    "print('The number of countries with respect to the Region are as follows')\n",
    "data_set1.groupby(['Region'])['country'].count()"
   ]
  },
  {
   "cell_type": "markdown",
   "id": "e5fd815c",
   "metadata": {},
   "source": [
    "## 3. On average which region has the highest\n",
    "### GDP per capita (current USD)\n",
    "### International trade: Imports (million USD)"
   ]
  },
  {
   "cell_type": "code",
   "execution_count": 31,
   "id": "54e4175a",
   "metadata": {},
   "outputs": [
    {
     "name": "stdout",
     "output_type": "stream",
     "text": [
      "The average GDP Per Capita of the regions are as follows:\n",
      "Region\n",
      "Caribbean            15135.562500\n",
      "CentralAmerica        6348.137500\n",
      "CentralAsia           4329.880000\n",
      "EasternAfrica         2088.852941\n",
      "EasternAsia          27967.614286\n",
      "EasternEurope         9292.490000\n",
      "Melanesia             9261.960000\n",
      "Micronesia            5008.300000\n",
      "MiddleAfrica          3928.833333\n",
      "NorthernAfrica        3934.960000\n",
      "NorthernAmerica      57659.000000\n",
      "NorthernEurope       42098.220000\n",
      "Oceania              44823.250000\n",
      "Polynesia             8686.520000\n",
      "South-easternAsia    10299.027273\n",
      "SouthAmerica          8499.775000\n",
      "SouthernAfrica        4191.900000\n",
      "SouthernAsia          2968.400000\n",
      "SouthernEurope       14462.741667\n",
      "WesternAfrica         1013.140000\n",
      "WesternAsia          17013.938889\n",
      "WesternEurope        55387.128571\n",
      "Name: GDP per capita (current US$), dtype: float64\n",
      "The region with the highest GDP Per capita (based on average) is NorthernAmerica with an Average GDP value of 57659.0\n"
     ]
    }
   ],
   "source": [
    "data_set2=data_set1.groupby(['Region'])['GDP per capita (current US$)'].agg('mean')\n",
    "print('The average GDP Per Capita of the regions are as follows:')\n",
    "print (data_set2)\n",
    "print('The region with the highest GDP Per capita (based on average) is',data_set2.idxmax() ,'with an Average GDP value of',data_set2.max())"
   ]
  },
  {
   "cell_type": "code",
   "execution_count": 32,
   "id": "f660b1c6",
   "metadata": {},
   "outputs": [
    {
     "name": "stdout",
     "output_type": "stream",
     "text": [
      "The average International trade- imports (million US$) of the regions are as follows:\n",
      "Region\n",
      "Caribbean              3057.312500\n",
      "CentralAmerica        57031.500000\n",
      "CentralAsia           12063.400000\n",
      "EasternAfrica          4726.176471\n",
      "EasternAsia          451995.000000\n",
      "EasternEurope         85243.900000\n",
      "Melanesia              2896.400000\n",
      "Micronesia               99.000000\n",
      "MiddleAfrica           4381.222222\n",
      "NorthernAfrica        35034.400000\n",
      "NorthernAmerica      663552.250000\n",
      "NorthernEurope       113407.200000\n",
      "Oceania              112914.500000\n",
      "Polynesia               432.000000\n",
      "South-easternAsia     98324.636364\n",
      "SouthAmerica          32885.666667\n",
      "SouthernAfrica        18005.600000\n",
      "SouthernAsia          58199.333333\n",
      "SouthernEurope        76666.666667\n",
      "WesternAfrica          4898.333333\n",
      "WesternAsia           46025.555556\n",
      "WesternEurope        407498.428571\n",
      "Name: International trade: Imports (million US$), dtype: float64\n",
      "The region with the highest International trade- imports (based on average) is NorthernAmerica with an Average GDP value of 663552.25\n"
     ]
    }
   ],
   "source": [
    "data_set3=data_set1.groupby(['Region'])['International trade: Imports (million US$)'].agg('mean')\n",
    "print('The average International trade- imports (million US$) of the regions are as follows:')\n",
    "print (data_set3)\n",
    "print('The region with the highest International trade- imports (based on average) is',data_set3.idxmax() ,'with an Average GDP value of',data_set3.max())"
   ]
  },
  {
   "cell_type": "markdown",
   "id": "c96e4768",
   "metadata": {},
   "source": [
    "## 4. Find out which region has more consistent with respect to GDP per capita (current USD)"
   ]
  },
  {
   "cell_type": "code",
   "execution_count": 38,
   "id": "ef97d531",
   "metadata": {},
   "outputs": [
    {
     "name": "stdout",
     "output_type": "stream",
     "text": [
      "The Standard Deviation of GDP Per Capita of the regions are as follows:\n",
      "Region\n",
      "Caribbean            14579.371326\n",
      "CentralAmerica        4180.440883\n",
      "CentralAsia           4152.215490\n",
      "EasternAfrica         3716.131770\n",
      "EasternAsia          27485.120923\n",
      "EasternEurope         5415.488739\n",
      "Melanesia            13855.842686\n",
      "Micronesia            4820.669694\n",
      "MiddleAfrica          5274.846281\n",
      "NorthernAfrica         974.706575\n",
      "NorthernAmerica      25749.619445\n",
      "NorthernEurope       20671.030185\n",
      "Oceania               9233.329638\n",
      "Polynesia             6956.250286\n",
      "South-easternAsia    16311.810656\n",
      "SouthAmerica          4273.707394\n",
      "SouthernAfrica        2177.551120\n",
      "SouthernAsia          2855.708179\n",
      "SouthernEurope        9541.703216\n",
      "WesternAfrica          815.095399\n",
      "WesternAsia          18812.151459\n",
      "WesternEurope        24770.467728\n",
      "Name: GDP per capita (current US$), dtype: float64\n",
      "The region with more consistent GDP Per capita (based on average) is WesternAfrica with a Standard Deviation of 815.0953991492564\n"
     ]
    }
   ],
   "source": [
    "data_set4=data_set1.groupby(['Region'])['GDP per capita (current US$)'].agg('std')\n",
    "print('The Standard Deviation of GDP Per Capita of the regions are as follows:')\n",
    "print (data_set4)\n",
    "print('The region with more consistent GDP Per capita (based on average) is',data_set4.idxmin(),'with a Standard Deviation of',data_set4.min())"
   ]
  },
  {
   "cell_type": "code",
   "execution_count": null,
   "id": "eefd8327",
   "metadata": {},
   "outputs": [],
   "source": []
  }
 ],
 "metadata": {
  "kernelspec": {
   "display_name": "Python 3",
   "language": "python",
   "name": "python3"
  },
  "language_info": {
   "codemirror_mode": {
    "name": "ipython",
    "version": 3
   },
   "file_extension": ".py",
   "mimetype": "text/x-python",
   "name": "python",
   "nbconvert_exporter": "python",
   "pygments_lexer": "ipython3",
   "version": "3.8.8"
  }
 },
 "nbformat": 4,
 "nbformat_minor": 5
}
