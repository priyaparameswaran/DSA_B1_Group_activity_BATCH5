{
  "nbformat": 4,
  "nbformat_minor": 0,
  "metadata": {
    "colab": {
      "name": "Week14_Group_Activity_Batch5.ipynb",
      "provenance": [],
      "collapsed_sections": []
    },
    "kernelspec": {
      "name": "python3",
      "display_name": "Python 3"
    },
    "language_info": {
      "name": "python"
    }
  },
  "cells": [
    {
      "cell_type": "markdown",
      "source": [
        "## Case study on Socio-economic and Health factors of Countries"
      ],
      "metadata": {
        "id": "kMbo_5A1QZyB"
      }
    },
    {
      "cell_type": "markdown",
      "source": [
        "#### HELP International is an international humanitarian NGO that is committed to fighting poverty and providing the people of backward countries with basic amenities and relief during the time of disasters and natural calamities. After the recent project that included a lot of awareness drives and funding programmes, they have been able to raise around $ 10 million. The significant issues that come while making this decision are mostly related to choosing the countries that are in the direst need of aid.\n",
        "\n",
        "#### How will you help this NGO to make a correct decision based on socio-economic and health factors?\n"
      ],
      "metadata": {
        "id": "ArowASw4QAiy"
      }
    },
    {
      "cell_type": "markdown",
      "source": [
        ""
      ],
      "metadata": {
        "id": "APqIi7KDQYb6"
      }
    },
    {
      "cell_type": "code",
      "source": [
        "from google.colab import files\n",
        "uploaded = files.upload()"
      ],
      "metadata": {
        "colab": {
          "resources": {
            "http://localhost:8080/nbextensions/google.colab/files.js": {
              "data": "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",
              "ok": true,
              "headers": [
                [
                  "content-type",
                  "application/javascript"
                ]
              ],
              "status": 200,
              "status_text": ""
            }
          },
          "base_uri": "https://localhost:8080/",
          "height": 74
        },
        "id": "3DWU-i_0QCNr",
        "outputId": "046eafc7-563c-4d9c-8408-04928c759572"
      },
      "execution_count": 1,
      "outputs": [
        {
          "output_type": "display_data",
          "data": {
            "text/html": [
              "\n",
              "     <input type=\"file\" id=\"files-7e2adca0-d696-4442-8dde-cd308dd875ae\" name=\"files[]\" multiple disabled\n",
              "        style=\"border:none\" />\n",
              "     <output id=\"result-7e2adca0-d696-4442-8dde-cd308dd875ae\">\n",
              "      Upload widget is only available when the cell has been executed in the\n",
              "      current browser session. Please rerun this cell to enable.\n",
              "      </output>\n",
              "      <script src=\"/nbextensions/google.colab/files.js\"></script> "
            ],
            "text/plain": [
              "<IPython.core.display.HTML object>"
            ]
          },
          "metadata": {}
        },
        {
          "output_type": "stream",
          "name": "stdout",
          "text": [
            "Saving Country-data.csv to Country-data.csv\n"
          ]
        }
      ]
    },
    {
      "cell_type": "code",
      "source": [
        ""
      ],
      "metadata": {
        "id": "eORVio3JRCCr"
      },
      "execution_count": null,
      "outputs": []
    },
    {
      "cell_type": "code",
      "source": [
        " # import necessary libraries\n",
        "import numpy as np\n",
        "import pandas as pd\n",
        "import matplotlib.pyplot as plt\n",
        "import seaborn as sns\n",
        "data_set1=pd.read_csv('Country-data.csv')\n",
        "data_set1.head()"
      ],
      "metadata": {
        "colab": {
          "base_uri": "https://localhost:8080/",
          "height": 206
        },
        "id": "XQbkxwZjQvxZ",
        "outputId": "5d97e700-368a-4995-ac84-9ff32acec00d"
      },
      "execution_count": 2,
      "outputs": [
        {
          "output_type": "execute_result",
          "data": {
            "text/html": [
              "\n",
              "  <div id=\"df-598d760a-b15d-4c27-9a9e-8762aa0a6346\">\n",
              "    <div class=\"colab-df-container\">\n",
              "      <div>\n",
              "<style scoped>\n",
              "    .dataframe tbody tr th:only-of-type {\n",
              "        vertical-align: middle;\n",
              "    }\n",
              "\n",
              "    .dataframe tbody tr th {\n",
              "        vertical-align: top;\n",
              "    }\n",
              "\n",
              "    .dataframe thead th {\n",
              "        text-align: right;\n",
              "    }\n",
              "</style>\n",
              "<table border=\"1\" class=\"dataframe\">\n",
              "  <thead>\n",
              "    <tr style=\"text-align: right;\">\n",
              "      <th></th>\n",
              "      <th>country</th>\n",
              "      <th>child_mort</th>\n",
              "      <th>exports</th>\n",
              "      <th>health</th>\n",
              "      <th>imports</th>\n",
              "      <th>income</th>\n",
              "      <th>inflation</th>\n",
              "      <th>life_expec</th>\n",
              "      <th>total_fer</th>\n",
              "      <th>gdpp</th>\n",
              "    </tr>\n",
              "  </thead>\n",
              "  <tbody>\n",
              "    <tr>\n",
              "      <th>0</th>\n",
              "      <td>Afghanistan</td>\n",
              "      <td>90.2</td>\n",
              "      <td>10.0</td>\n",
              "      <td>7.58</td>\n",
              "      <td>44.9</td>\n",
              "      <td>1610</td>\n",
              "      <td>9.44</td>\n",
              "      <td>56.2</td>\n",
              "      <td>5.82</td>\n",
              "      <td>553</td>\n",
              "    </tr>\n",
              "    <tr>\n",
              "      <th>1</th>\n",
              "      <td>Albania</td>\n",
              "      <td>16.6</td>\n",
              "      <td>28.0</td>\n",
              "      <td>6.55</td>\n",
              "      <td>48.6</td>\n",
              "      <td>9930</td>\n",
              "      <td>4.49</td>\n",
              "      <td>76.3</td>\n",
              "      <td>1.65</td>\n",
              "      <td>4090</td>\n",
              "    </tr>\n",
              "    <tr>\n",
              "      <th>2</th>\n",
              "      <td>Algeria</td>\n",
              "      <td>27.3</td>\n",
              "      <td>38.4</td>\n",
              "      <td>4.17</td>\n",
              "      <td>31.4</td>\n",
              "      <td>12900</td>\n",
              "      <td>16.10</td>\n",
              "      <td>76.5</td>\n",
              "      <td>2.89</td>\n",
              "      <td>4460</td>\n",
              "    </tr>\n",
              "    <tr>\n",
              "      <th>3</th>\n",
              "      <td>Angola</td>\n",
              "      <td>119.0</td>\n",
              "      <td>62.3</td>\n",
              "      <td>2.85</td>\n",
              "      <td>42.9</td>\n",
              "      <td>5900</td>\n",
              "      <td>22.40</td>\n",
              "      <td>60.1</td>\n",
              "      <td>6.16</td>\n",
              "      <td>3530</td>\n",
              "    </tr>\n",
              "    <tr>\n",
              "      <th>4</th>\n",
              "      <td>Antigua and Barbuda</td>\n",
              "      <td>10.3</td>\n",
              "      <td>45.5</td>\n",
              "      <td>6.03</td>\n",
              "      <td>58.9</td>\n",
              "      <td>19100</td>\n",
              "      <td>1.44</td>\n",
              "      <td>76.8</td>\n",
              "      <td>2.13</td>\n",
              "      <td>12200</td>\n",
              "    </tr>\n",
              "  </tbody>\n",
              "</table>\n",
              "</div>\n",
              "      <button class=\"colab-df-convert\" onclick=\"convertToInteractive('df-598d760a-b15d-4c27-9a9e-8762aa0a6346')\"\n",
              "              title=\"Convert this dataframe to an interactive table.\"\n",
              "              style=\"display:none;\">\n",
              "        \n",
              "  <svg xmlns=\"http://www.w3.org/2000/svg\" height=\"24px\"viewBox=\"0 0 24 24\"\n",
              "       width=\"24px\">\n",
              "    <path d=\"M0 0h24v24H0V0z\" fill=\"none\"/>\n",
              "    <path d=\"M18.56 5.44l.94 2.06.94-2.06 2.06-.94-2.06-.94-.94-2.06-.94 2.06-2.06.94zm-11 1L8.5 8.5l.94-2.06 2.06-.94-2.06-.94L8.5 2.5l-.94 2.06-2.06.94zm10 10l.94 2.06.94-2.06 2.06-.94-2.06-.94-.94-2.06-.94 2.06-2.06.94z\"/><path d=\"M17.41 7.96l-1.37-1.37c-.4-.4-.92-.59-1.43-.59-.52 0-1.04.2-1.43.59L10.3 9.45l-7.72 7.72c-.78.78-.78 2.05 0 2.83L4 21.41c.39.39.9.59 1.41.59.51 0 1.02-.2 1.41-.59l7.78-7.78 2.81-2.81c.8-.78.8-2.07 0-2.86zM5.41 20L4 18.59l7.72-7.72 1.47 1.35L5.41 20z\"/>\n",
              "  </svg>\n",
              "      </button>\n",
              "      \n",
              "  <style>\n",
              "    .colab-df-container {\n",
              "      display:flex;\n",
              "      flex-wrap:wrap;\n",
              "      gap: 12px;\n",
              "    }\n",
              "\n",
              "    .colab-df-convert {\n",
              "      background-color: #E8F0FE;\n",
              "      border: none;\n",
              "      border-radius: 50%;\n",
              "      cursor: pointer;\n",
              "      display: none;\n",
              "      fill: #1967D2;\n",
              "      height: 32px;\n",
              "      padding: 0 0 0 0;\n",
              "      width: 32px;\n",
              "    }\n",
              "\n",
              "    .colab-df-convert:hover {\n",
              "      background-color: #E2EBFA;\n",
              "      box-shadow: 0px 1px 2px rgba(60, 64, 67, 0.3), 0px 1px 3px 1px rgba(60, 64, 67, 0.15);\n",
              "      fill: #174EA6;\n",
              "    }\n",
              "\n",
              "    [theme=dark] .colab-df-convert {\n",
              "      background-color: #3B4455;\n",
              "      fill: #D2E3FC;\n",
              "    }\n",
              "\n",
              "    [theme=dark] .colab-df-convert:hover {\n",
              "      background-color: #434B5C;\n",
              "      box-shadow: 0px 1px 3px 1px rgba(0, 0, 0, 0.15);\n",
              "      filter: drop-shadow(0px 1px 2px rgba(0, 0, 0, 0.3));\n",
              "      fill: #FFFFFF;\n",
              "    }\n",
              "  </style>\n",
              "\n",
              "      <script>\n",
              "        const buttonEl =\n",
              "          document.querySelector('#df-598d760a-b15d-4c27-9a9e-8762aa0a6346 button.colab-df-convert');\n",
              "        buttonEl.style.display =\n",
              "          google.colab.kernel.accessAllowed ? 'block' : 'none';\n",
              "\n",
              "        async function convertToInteractive(key) {\n",
              "          const element = document.querySelector('#df-598d760a-b15d-4c27-9a9e-8762aa0a6346');\n",
              "          const dataTable =\n",
              "            await google.colab.kernel.invokeFunction('convertToInteractive',\n",
              "                                                     [key], {});\n",
              "          if (!dataTable) return;\n",
              "\n",
              "          const docLinkHtml = 'Like what you see? Visit the ' +\n",
              "            '<a target=\"_blank\" href=https://colab.research.google.com/notebooks/data_table.ipynb>data table notebook</a>'\n",
              "            + ' to learn more about interactive tables.';\n",
              "          element.innerHTML = '';\n",
              "          dataTable['output_type'] = 'display_data';\n",
              "          await google.colab.output.renderOutput(dataTable, element);\n",
              "          const docLink = document.createElement('div');\n",
              "          docLink.innerHTML = docLinkHtml;\n",
              "          element.appendChild(docLink);\n",
              "        }\n",
              "      </script>\n",
              "    </div>\n",
              "  </div>\n",
              "  "
            ],
            "text/plain": [
              "               country  child_mort  exports  ...  life_expec  total_fer   gdpp\n",
              "0          Afghanistan        90.2     10.0  ...        56.2       5.82    553\n",
              "1              Albania        16.6     28.0  ...        76.3       1.65   4090\n",
              "2              Algeria        27.3     38.4  ...        76.5       2.89   4460\n",
              "3               Angola       119.0     62.3  ...        60.1       6.16   3530\n",
              "4  Antigua and Barbuda        10.3     45.5  ...        76.8       2.13  12200\n",
              "\n",
              "[5 rows x 10 columns]"
            ]
          },
          "metadata": {},
          "execution_count": 2
        }
      ]
    },
    {
      "cell_type": "code",
      "source": [
        "X=data_set1.iloc[:,[3,9]].values\n",
        "X"
      ],
      "metadata": {
        "colab": {
          "base_uri": "https://localhost:8080/"
        },
        "id": "U6NSmtQRRozi",
        "outputId": "f77777c5-ca62-4c11-8449-774331433a9d"
      },
      "execution_count": 5,
      "outputs": [
        {
          "output_type": "execute_result",
          "data": {
            "text/plain": [
              "array([[7.58e+00, 5.53e+02],\n",
              "       [6.55e+00, 4.09e+03],\n",
              "       [4.17e+00, 4.46e+03],\n",
              "       [2.85e+00, 3.53e+03],\n",
              "       [6.03e+00, 1.22e+04],\n",
              "       [8.10e+00, 1.03e+04],\n",
              "       [4.40e+00, 3.22e+03],\n",
              "       [8.73e+00, 5.19e+04],\n",
              "       [1.10e+01, 4.69e+04],\n",
              "       [5.88e+00, 5.84e+03],\n",
              "       [7.89e+00, 2.80e+04],\n",
              "       [4.97e+00, 2.07e+04],\n",
              "       [3.52e+00, 7.58e+02],\n",
              "       [7.97e+00, 1.60e+04],\n",
              "       [5.61e+00, 6.03e+03],\n",
              "       [1.07e+01, 4.44e+04],\n",
              "       [5.20e+00, 4.34e+03],\n",
              "       [4.10e+00, 7.58e+02],\n",
              "       [5.20e+00, 2.18e+03],\n",
              "       [4.84e+00, 1.98e+03],\n",
              "       [1.11e+01, 4.61e+03],\n",
              "       [8.30e+00, 6.35e+03],\n",
              "       [9.01e+00, 1.12e+04],\n",
              "       [2.84e+00, 3.53e+04],\n",
              "       [6.87e+00, 6.84e+03],\n",
              "       [6.74e+00, 5.75e+02],\n",
              "       [1.16e+01, 2.31e+02],\n",
              "       [5.68e+00, 7.86e+02],\n",
              "       [5.13e+00, 1.31e+03],\n",
              "       [1.13e+01, 4.74e+04],\n",
              "       [4.09e+00, 3.31e+03],\n",
              "       [3.98e+00, 4.46e+02],\n",
              "       [4.53e+00, 8.97e+02],\n",
              "       [7.96e+00, 1.29e+04],\n",
              "       [5.07e+00, 4.56e+03],\n",
              "       [7.59e+00, 6.25e+03],\n",
              "       [4.51e+00, 7.69e+02],\n",
              "       [7.91e+00, 3.34e+02],\n",
              "       [2.46e+00, 2.74e+03],\n",
              "       [1.09e+01, 8.20e+03],\n",
              "       [5.30e+00, 1.22e+03],\n",
              "       [7.76e+00, 1.35e+04],\n",
              "       [5.97e+00, 3.08e+04],\n",
              "       [7.88e+00, 1.98e+04],\n",
              "       [1.14e+01, 5.80e+04],\n",
              "       [6.22e+00, 5.45e+03],\n",
              "       [8.06e+00, 4.66e+03],\n",
              "       [4.66e+00, 2.60e+03],\n",
              "       [6.91e+00, 2.99e+03],\n",
              "       [4.48e+00, 1.71e+04],\n",
              "       [2.66e+00, 4.82e+02],\n",
              "       [6.03e+00, 1.46e+04],\n",
              "       [4.86e+00, 3.65e+03],\n",
              "       [8.95e+00, 4.62e+04],\n",
              "       [1.19e+01, 4.06e+04],\n",
              "       [3.50e+00, 8.75e+03],\n",
              "       [5.69e+00, 5.62e+02],\n",
              "       [1.01e+01, 2.96e+03],\n",
              "       [1.16e+01, 4.18e+04],\n",
              "       [5.22e+00, 1.31e+03],\n",
              "       [1.03e+01, 2.69e+04],\n",
              "       [5.86e+00, 7.37e+03],\n",
              "       [6.85e+00, 2.83e+03],\n",
              "       [4.93e+00, 6.48e+02],\n",
              "       [8.50e+00, 5.47e+02],\n",
              "       [5.38e+00, 3.04e+03],\n",
              "       [6.91e+00, 6.62e+02],\n",
              "       [7.33e+00, 1.31e+04],\n",
              "       [9.40e+00, 4.19e+04],\n",
              "       [4.05e+00, 1.35e+03],\n",
              "       [2.61e+00, 3.11e+03],\n",
              "       [5.60e+00, 6.53e+03],\n",
              "       [8.41e+00, 4.50e+03],\n",
              "       [9.19e+00, 4.87e+04],\n",
              "       [7.63e+00, 3.06e+04],\n",
              "       [9.53e+00, 3.58e+04],\n",
              "       [4.81e+00, 4.68e+03],\n",
              "       [9.49e+00, 4.45e+04],\n",
              "       [8.04e+00, 3.68e+03],\n",
              "       [4.29e+00, 9.07e+03],\n",
              "       [4.75e+00, 9.67e+02],\n",
              "       [1.13e+01, 1.49e+03],\n",
              "       [2.63e+00, 3.85e+04],\n",
              "       [6.18e+00, 8.80e+02],\n",
              "       [4.47e+00, 1.14e+03],\n",
              "       [6.68e+00, 1.13e+04],\n",
              "       [7.03e+00, 8.86e+03],\n",
              "       [1.11e+01, 1.17e+03],\n",
              "       [1.18e+01, 3.27e+02],\n",
              "       [3.88e+00, 1.21e+04],\n",
              "       [7.04e+00, 1.20e+04],\n",
              "       [7.77e+00, 1.05e+05],\n",
              "       [7.09e+00, 4.54e+03],\n",
              "       [3.77e+00, 4.13e+02],\n",
              "       [6.59e+00, 4.59e+02],\n",
              "       [4.39e+00, 9.07e+03],\n",
              "       [6.33e+00, 7.10e+03],\n",
              "       [4.98e+00, 7.08e+02],\n",
              "       [8.65e+00, 2.11e+04],\n",
              "       [4.41e+00, 1.20e+03],\n",
              "       [6.00e+00, 8.00e+03],\n",
              "       [1.42e+01, 2.86e+03],\n",
              "       [1.17e+01, 1.63e+03],\n",
              "       [5.44e+00, 2.65e+03],\n",
              "       [9.11e+00, 6.68e+03],\n",
              "       [5.20e+00, 2.83e+03],\n",
              "       [5.21e+00, 4.19e+02],\n",
              "       [1.97e+00, 9.88e+02],\n",
              "       [6.78e+00, 5.19e+03],\n",
              "       [5.25e+00, 5.92e+02],\n",
              "       [1.19e+01, 5.03e+04],\n",
              "       [1.01e+01, 3.37e+04],\n",
              "       [5.16e+00, 3.48e+02],\n",
              "       [5.07e+00, 2.33e+03],\n",
              "       [9.48e+00, 8.78e+04],\n",
              "       [2.77e+00, 1.93e+04],\n",
              "       [2.20e+00, 1.04e+03],\n",
              "       [8.10e+00, 8.08e+03],\n",
              "       [5.87e+00, 3.23e+03],\n",
              "       [5.08e+00, 5.02e+03],\n",
              "       [3.61e+00, 2.13e+03],\n",
              "       [7.46e+00, 1.26e+04],\n",
              "       [1.10e+01, 2.25e+04],\n",
              "       [1.81e+00, 7.03e+04],\n",
              "       [5.58e+00, 8.23e+03],\n",
              "       [5.08e+00, 1.07e+04],\n",
              "       [1.05e+01, 5.63e+02],\n",
              "       [6.47e+00, 3.45e+03],\n",
              "       [4.29e+00, 1.93e+04],\n",
              "       [5.66e+00, 1.00e+03],\n",
              "       [1.04e+01, 5.41e+03],\n",
              "       [3.40e+00, 1.08e+04],\n",
              "       [1.31e+01, 3.99e+02],\n",
              "       [3.96e+00, 4.66e+04],\n",
              "       [8.79e+00, 1.66e+04],\n",
              "       [9.41e+00, 2.34e+04],\n",
              "       [8.55e+00, 1.29e+03],\n",
              "       [8.94e+00, 7.28e+03],\n",
              "       [6.93e+00, 2.21e+04],\n",
              "       [9.54e+00, 3.07e+04],\n",
              "       [2.94e+00, 2.81e+03],\n",
              "       [4.47e+00, 6.23e+03],\n",
              "       [6.32e+00, 1.48e+03],\n",
              "       [7.01e+00, 8.30e+03],\n",
              "       [9.63e+00, 5.21e+04],\n",
              "       [1.15e+01, 7.46e+04],\n",
              "       [5.98e+00, 7.38e+02],\n",
              "       [6.01e+00, 7.02e+02],\n",
              "       [3.88e+00, 5.08e+03],\n",
              "       [9.12e+00, 3.60e+03],\n",
              "       [7.65e+00, 4.88e+02],\n",
              "       [5.07e+00, 3.55e+03],\n",
              "       [6.21e+00, 4.14e+03],\n",
              "       [6.74e+00, 1.07e+04],\n",
              "       [2.50e+00, 4.44e+03],\n",
              "       [9.01e+00, 5.95e+02],\n",
              "       [7.72e+00, 2.97e+03],\n",
              "       [3.66e+00, 3.50e+04],\n",
              "       [9.64e+00, 3.89e+04],\n",
              "       [1.79e+01, 4.84e+04],\n",
              "       [8.35e+00, 1.19e+04],\n",
              "       [5.81e+00, 1.38e+03],\n",
              "       [5.25e+00, 2.97e+03],\n",
              "       [4.91e+00, 1.35e+04],\n",
              "       [6.84e+00, 1.31e+03],\n",
              "       [5.18e+00, 1.31e+03],\n",
              "       [5.89e+00, 1.46e+03]])"
            ]
          },
          "metadata": {},
          "execution_count": 5
        }
      ]
    },
    {
      "cell_type": "code",
      "source": [
        "% whos"
      ],
      "metadata": {
        "colab": {
          "base_uri": "https://localhost:8080/"
        },
        "id": "_zNExuJMSSa5",
        "outputId": "1f619f54-79f7-4249-8a74-14029fa91ca2"
      },
      "execution_count": 6,
      "outputs": [
        {
          "output_type": "stream",
          "name": "stdout",
          "text": [
            "Variable    Type         Data/Info\n",
            "----------------------------------\n",
            "X           ndarray      167x2: 334 elems, type `float64`, 2672 bytes\n",
            "data_set1   DataFrame                     country <...>\\n[167 rows x 10 columns]\n",
            "files       module       <module 'google.colab.fil<...>s/google/colab/files.py'>\n",
            "np          module       <module 'numpy' from '/us<...>kages/numpy/__init__.py'>\n",
            "pd          module       <module 'pandas' from '/u<...>ages/pandas/__init__.py'>\n",
            "plt         module       <module 'matplotlib.pyplo<...>es/matplotlib/pyplot.py'>\n",
            "sns         module       <module 'seaborn' from '/<...>ges/seaborn/__init__.py'>\n",
            "uploaded    dict         n=1\n"
          ]
        }
      ]
    },
    {
      "cell_type": "code",
      "source": [
        "data_set1.dtypes"
      ],
      "metadata": {
        "colab": {
          "base_uri": "https://localhost:8080/"
        },
        "id": "aJLKQNaLRtoD",
        "outputId": "2c334e9b-4b54-4c3f-9b6f-b5e19c31ca86"
      },
      "execution_count": 7,
      "outputs": [
        {
          "output_type": "execute_result",
          "data": {
            "text/plain": [
              "country        object\n",
              "child_mort    float64\n",
              "exports       float64\n",
              "health        float64\n",
              "imports       float64\n",
              "income          int64\n",
              "inflation     float64\n",
              "life_expec    float64\n",
              "total_fer     float64\n",
              "gdpp            int64\n",
              "dtype: object"
            ]
          },
          "metadata": {},
          "execution_count": 7
        }
      ]
    },
    {
      "cell_type": "code",
      "source": [
        "data_set1.isna().sum()"
      ],
      "metadata": {
        "colab": {
          "base_uri": "https://localhost:8080/"
        },
        "id": "pAKaTtFoSfnS",
        "outputId": "4f1d197b-f4a0-4189-f6d1-b4de4d137418"
      },
      "execution_count": 12,
      "outputs": [
        {
          "output_type": "execute_result",
          "data": {
            "text/plain": [
              "country       0\n",
              "child_mort    0\n",
              "exports       0\n",
              "health        0\n",
              "imports       0\n",
              "income        0\n",
              "inflation     0\n",
              "life_expec    0\n",
              "total_fer     0\n",
              "gdpp          0\n",
              "dtype: int64"
            ]
          },
          "metadata": {},
          "execution_count": 12
        }
      ]
    },
    {
      "cell_type": "markdown",
      "source": [
        "### The dataset is a clean data set as it has no null values."
      ],
      "metadata": {
        "id": "-pKnrym9S5_d"
      }
    },
    {
      "cell_type": "code",
      "source": [
        "# K-Means clustering\n",
        "from sklearn.cluster import KMeans\n",
        "wcss=[]\n",
        "for i in range(1,11):\n",
        "  kmeans=KMeans(n_clusters=i,init='k-means++',random_state=42)\n",
        "  kmeans.fit(X)\n",
        "  wcss.append(kmeans.inertia_)\n",
        "  print(kmeans.inertia_)"
      ],
      "metadata": {
        "colab": {
          "base_uri": "https://localhost:8080/"
        },
        "id": "OF7oXe_ETWaP",
        "outputId": "68ed1989-52f4-42db-f9b9-c48bd38f94d3"
      },
      "execution_count": 13,
      "outputs": [
        {
          "output_type": "stream",
          "name": "stdout",
          "text": [
            "55766276966.44141\n",
            "13270065982.568\n",
            "6809915389.809934\n",
            "3499906221.6013956\n",
            "2336436335.0965896\n",
            "1696602038.969221\n",
            "1124698471.9905028\n",
            "852558259.5503638\n",
            "668649104.5726111\n",
            "520125410.8779774\n"
          ]
        }
      ]
    },
    {
      "cell_type": "code",
      "source": [
        "# Elbow method\n",
        "plt.plot(range(1,11),wcss)\n",
        "plt.title('The Elbow Method')\n",
        "plt.xlabel('Number of Clusters')\n",
        "plt.ylabel('wcss')\n",
        "plt.show()"
      ],
      "metadata": {
        "colab": {
          "base_uri": "https://localhost:8080/",
          "height": 295
        },
        "id": "TcpJ6lcaTYUr",
        "outputId": "4cef846c-f1a1-4ecc-f609-9cefc4781327"
      },
      "execution_count": 14,
      "outputs": [
        {
          "output_type": "display_data",
          "data": {
            "image/png": "[encoded data removed]",
            "text/plain": [
              "<Figure size 432x288 with 1 Axes>"
            ]
          },
          "metadata": {
            "needs_background": "light"
          }
        }
      ]
    },
    {
      "cell_type": "markdown",
      "source": [
        "### From the above figure, the optimum number of clusters is 4"
      ],
      "metadata": {
        "id": "TJXykaxoVJYv"
      }
    },
    {
      "cell_type": "code",
      "source": [
        "# K-Means\n",
        "kmeans=KMeans(n_clusters=4, init='k-means++', random_state=42)\n",
        "y_kmeans=kmeans.fit_predict(X)\n",
        "type(X)"
      ],
      "metadata": {
        "colab": {
          "base_uri": "https://localhost:8080/"
        },
        "id": "2265YVqwV8d3",
        "outputId": "494caad2-a884-48e8-8f7d-ec6707fb4aa8"
      },
      "execution_count": 16,
      "outputs": [
        {
          "output_type": "execute_result",
          "data": {
            "text/plain": [
              "numpy.ndarray"
            ]
          },
          "metadata": {},
          "execution_count": 16
        }
      ]
    },
    {
      "cell_type": "code",
      "source": [
        "y_kmeans"
      ],
      "metadata": {
        "colab": {
          "base_uri": "https://localhost:8080/"
        },
        "id": "LBppDLOIWc5W",
        "outputId": "cdef6272-48b2-4c2f-8784-594aed48d501"
      },
      "execution_count": 17,
      "outputs": [
        {
          "output_type": "execute_result",
          "data": {
            "text/plain": [
              "array([0, 0, 0, 0, 3, 3, 0, 1, 1, 0, 3, 3, 0, 3, 0, 1, 0, 0, 0, 0, 0, 0,\n",
              "       3, 1, 0, 0, 0, 0, 0, 1, 0, 0, 0, 3, 0, 0, 0, 0, 0, 0, 0, 3, 1, 3,\n",
              "       1, 0, 0, 0, 0, 3, 0, 3, 0, 1, 1, 0, 0, 0, 1, 0, 3, 0, 0, 0, 0, 0,\n",
              "       0, 3, 1, 0, 0, 0, 0, 1, 1, 1, 0, 1, 0, 0, 0, 0, 1, 0, 0, 3, 0, 0,\n",
              "       0, 3, 3, 2, 0, 0, 0, 0, 0, 0, 3, 0, 0, 0, 0, 0, 0, 0, 0, 0, 0, 0,\n",
              "       1, 1, 0, 0, 2, 3, 0, 0, 0, 0, 0, 3, 3, 2, 0, 3, 0, 0, 3, 0, 0, 3,\n",
              "       0, 1, 3, 3, 0, 0, 3, 1, 0, 0, 0, 0, 1, 2, 0, 0, 0, 0, 0, 0, 0, 3,\n",
              "       0, 0, 0, 1, 1, 1, 3, 0, 0, 3, 0, 0, 0], dtype=int32)"
            ]
          },
          "metadata": {},
          "execution_count": 17
        }
      ]
    },
    {
      "cell_type": "markdown",
      "source": [
        "### Thus, the cluster values range from 0 to 3"
      ],
      "metadata": {
        "id": "utyauiTgWhi0"
      }
    },
    {
      "cell_type": "code",
      "source": [
        "# scatter-plot\n",
        "plt.scatter(X[y_kmeans == 0,0],X[y_kmeans == 0,1], s=100, c='red', label = 'Cluster1')\n",
        "plt.scatter(X[y_kmeans == 1,0],X[y_kmeans == 1,1], s=100, c='blue', label = 'Cluster2')\n",
        "plt.scatter(X[y_kmeans == 2,0],X[y_kmeans == 2,1], s=100, c='green', label = 'Cluster3')\n",
        "plt.scatter(X[y_kmeans == 3,0],X[y_kmeans == 3,1], s=100, c='yellow', label = 'Cluster4')\n",
        "plt.title('Cluster of Countries')\n",
        "plt.xlabel('health')\n",
        "plt.ylabel('gdpp')\n",
        "plt.legend()\n",
        "plt.show()"
      ],
      "metadata": {
        "colab": {
          "base_uri": "https://localhost:8080/",
          "height": 295
        },
        "id": "_hRTyPAfWpEe",
        "outputId": "042347cd-2101-4165-90a0-ce23891f7cca"
      },
      "execution_count": 18,
      "outputs": [
        {
          "output_type": "display_data",
          "data": {
            "image/png": "[encoded data removed]",
            "text/plain": [
              "<Figure size 432x288 with 1 Axes>"
            ]
          },
          "metadata": {
            "needs_background": "light"
          }
        }
      ]
    },
    {
      "cell_type": "markdown",
      "source": [
        "### As seen in the scatter plot, could see 4 clusters. Below are the analysis made:\n",
        "### 1. Cluster 1 (Red) - As we can see, the countries belong to this cluster is very poor in their GDP. Here also, the health condition varies.\n",
        "### 2. Cluster 2 (Blue) - The countries belong to Cluster 2 can be classified into average countries, who have a good health and GDP indexes\n",
        "### 3. Cluster 3 (Green) - The countries belong to Cluster 3 have a very good GDP and health index\n",
        "### 4. Cluster 4 (Yellow)- The countries belong to Cluster 4 is below average in their GDP. The health index is varying.\n",
        "\n",
        "\n",
        "# The NGO should help the countries that belong to Cluster 1 (Red) as they can be listed as Poor countries."
      ],
      "metadata": {
        "id": "23Zf3b2deeRt"
      }
    },
    {
      "cell_type": "markdown",
      "source": [
        "### Now, we can try plotting using Hierarchial clustering"
      ],
      "metadata": {
        "id": "-YrMOLXTYirj"
      }
    },
    {
      "cell_type": "code",
      "source": [
        "# Hierarchial clustering\n",
        "import scipy.cluster.hierarchy as sch\n",
        "dendrogram=sch.dendrogram(sch.linkage(X, method ='ward'))\n",
        "plt.title('Dendrogram')\n",
        "plt.xlabel('Countries')\n",
        "plt.ylabel('Euclidean distance')\n",
        "plt.show()"
      ],
      "metadata": {
        "colab": {
          "base_uri": "https://localhost:8080/",
          "height": 295
        },
        "id": "74-BZNlFYttD",
        "outputId": "00b91b08-7cec-410d-ee71-5c1b977ee01c"
      },
      "execution_count": 19,
      "outputs": [
        {
          "output_type": "display_data",
          "data": {
            "image/png": "[encoded data removed]",
            "text/plain": [
              "<Figure size 432x288 with 1 Axes>"
            ]
          },
          "metadata": {
            "needs_background": "light"
          }
        }
      ]
    },
    {
      "cell_type": "code",
      "source": [
        "### From the dendrogram, the optimum number of Clusters is 4\n",
        "from sklearn.cluster import AgglomerativeClustering\n",
        "hc=AgglomerativeClustering(n_clusters=4, affinity = 'euclidean', linkage='ward')\n",
        "y_hc=hc.fit_predict(X)\n",
        "y_hc"
      ],
      "metadata": {
        "colab": {
          "base_uri": "https://localhost:8080/"
        },
        "id": "QSal1MyAYwCD",
        "outputId": "d5015043-81b1-4056-d5ec-75b1c453cbe7"
      },
      "execution_count": 21,
      "outputs": [
        {
          "output_type": "execute_result",
          "data": {
            "text/plain": [
              "array([3, 3, 3, 3, 1, 1, 3, 0, 0, 1, 0, 1, 3, 1, 1, 0, 3, 3, 3, 3, 3, 1,\n",
              "       1, 0, 1, 3, 3, 3, 3, 0, 3, 3, 3, 1, 3, 1, 3, 3, 3, 1, 3, 1, 0, 1,\n",
              "       0, 3, 3, 3, 3, 1, 3, 1, 3, 0, 0, 1, 3, 3, 0, 3, 0, 1, 3, 3, 3, 3,\n",
              "       3, 1, 0, 3, 3, 1, 3, 0, 0, 0, 3, 0, 3, 1, 3, 3, 0, 3, 3, 1, 1, 3,\n",
              "       3, 1, 1, 2, 3, 3, 3, 1, 1, 3, 1, 3, 1, 3, 3, 3, 1, 3, 3, 3, 3, 3,\n",
              "       0, 0, 3, 3, 2, 1, 3, 1, 3, 3, 3, 1, 1, 2, 1, 1, 3, 3, 1, 3, 3, 1,\n",
              "       3, 0, 1, 1, 3, 1, 1, 0, 3, 1, 3, 1, 0, 2, 3, 3, 3, 3, 3, 3, 3, 1,\n",
              "       3, 3, 3, 0, 0, 0, 1, 3, 3, 1, 3, 3, 3])"
            ]
          },
          "metadata": {},
          "execution_count": 21
        }
      ]
    },
    {
      "cell_type": "markdown",
      "source": [
        "### Thus, the cluster values range from 0 to 3"
      ],
      "metadata": {
        "id": "7JGb3pFlaih1"
      }
    },
    {
      "cell_type": "code",
      "source": [
        "plt.scatter(X[y_hc == 0,0],X[y_hc == 0,1], s=100, c='red', label = 'Cluster1')\n",
        "plt.scatter(X[y_hc == 1,0],X[y_hc == 1,1], s=100, c='blue', label = 'Cluster2')\n",
        "plt.scatter(X[y_hc == 2,0],X[y_hc == 2,1], s=100, c='green', label = 'Cluster3')\n",
        "plt.scatter(X[y_hc == 3,0],X[y_hc == 3,1], s=100, c='yellow', label = 'Cluster4')\n",
        "plt.title('Cluster of Countries')\n",
        "plt.xlabel('health')\n",
        "plt.ylabel('gdpp')\n",
        "plt.legend()\n",
        "plt.show()"
      ],
      "metadata": {
        "colab": {
          "base_uri": "https://localhost:8080/",
          "height": 295
        },
        "id": "pu_t9sxYanxc",
        "outputId": "6edd7feb-0478-4fb6-9c70-fdce4d6c0937"
      },
      "execution_count": 22,
      "outputs": [
        {
          "output_type": "display_data",
          "data": {
            "image/png": "[encoded data removed]",
            "text/plain": [
              "<Figure size 432x288 with 1 Axes>"
            ]
          },
          "metadata": {
            "needs_background": "light"
          }
        }
      ]
    },
    {
      "cell_type": "markdown",
      "source": [
        "### As seen in K-means, could see 4 clusters. Below are the analysis made:\n",
        "### 1. Cluster 1 (Red) - The countries belong to Cluster 1 can be classified into average countries, who have a good health and GDP indexes\n",
        "### 2. Cluster 2 (Blue)- The countries belong to Cluster 2 is below average in their GDP. The health index is varying.\n",
        "### 3. Cluster 3 (Green) - The countries belong to Cluster 3 have a very good GDP and health index\n",
        "### 4. Cluster 4 (Yellow) - As we can see, the countries belong to this cluster is very poor in their GDP. Here also, the health condition varies.\n",
        "\n",
        "# The NGO should help the countries that belong to Cluster 4 (Yellow) as they can be listed as Poor countries."
      ],
      "metadata": {
        "id": "IfuBTNSBbJ4u"
      }
    }
  ]
}